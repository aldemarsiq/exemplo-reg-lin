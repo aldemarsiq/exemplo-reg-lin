{
 "cells": [
  {
   "cell_type": "markdown",
   "metadata": {},
   "source": [
    "# Criação do banco de dados"
   ]
  },
  {
   "cell_type": "markdown",
   "metadata": {},
   "source": [
    "**Importar bibliotecas a serem utilizadas**"
   ]
  },
  {
   "cell_type": "code",
   "execution_count": 31,
   "metadata": {},
   "outputs": [],
   "source": [
    "import numpy as np\n",
    "import matplotlib.pyplot as plt"
   ]
  },
  {
   "cell_type": "markdown",
   "metadata": {},
   "source": [
    "**Criar banco de dados para ajuste linear**"
   ]
  },
  {
   "cell_type": "code",
   "execution_count": 32,
   "metadata": {},
   "outputs": [],
   "source": [
    "xlim_inf = -5\n",
    "xlim_sup = 5\n",
    "n_pontos = 20\n",
    "xr = np.linspace(xlim_inf,xlim_sup,n_pontos)\n",
    "\n",
    "coef_ajuste_reta = 5          #Coeficiente angular da reta do dataset\n",
    "bias_ajuste_reta = 3                     \n",
    "peso_aletorio = 1             #Peso do ruído aleatório no dataset\n",
    "\n",
    "np.random.seed(1)\n",
    "t1 = coef_ajuste_reta*xr+bias_ajuste_reta+peso_aletorio*np.random.uniform(-1,1,n_pontos)    #Equação da reta    \n",
    "\n",
    "xr_train = xr[0:13]           #Valores utilizados para ajuste (treino)\n",
    "t1_train = t1[0:13]          #Valores utilizados para ajuste (treino)"
   ]
  },
  {
   "cell_type": "markdown",
   "metadata": {},
   "source": [
    "**Criar banco de dados para ajuste quadrático**"
   ]
  },
  {
   "cell_type": "code",
   "execution_count": 33,
   "metadata": {},
   "outputs": [],
   "source": [
    "xs = np.concatenate((xr.reshape(-1,1)**2,xr.reshape(-1,1)),axis=1)\n",
    "\n",
    "coef_ajuste1 = 1              #Coeficiente do termo quadrático\n",
    "coef_ajuste2 = 2              #Coeficiente do termo linear\n",
    "bias_ajuste_squared = 3                     \n",
    "peso_aletorio = 0             #Peso do ruído aleatório no dataset\n",
    "\n",
    "t2 = coef_ajuste1*xs[:,0]+coef_ajuste2*xs[:,1]+bias_ajuste_squared+peso_aletorio*np.random.uniform(-1,1,n_pontos)  #Parábola\n",
    "\n",
    "xs_train = xs[0:14,:]       #Valores utilizados para ajuste (treino)\n",
    "t2_train = t2[0:14]        #Valores utilizados para ajuste (treino)"
   ]
  },
  {
   "cell_type": "code",
   "execution_count": 34,
   "metadata": {},
   "outputs": [
    {
     "data": {
      "text/plain": [
       "array([18.        , 14.06648199, 10.68698061,  7.86149584,  5.5900277 ,\n",
       "        3.87257618,  2.70914127,  2.09972299,  2.04432133,  2.54293629,\n",
       "        3.59556787,  5.20221607,  7.36288089, 10.07756233])"
      ]
     },
     "execution_count": 34,
     "metadata": {},
     "output_type": "execute_result"
    }
   ],
   "source": [
    "t2_train"
   ]
  },
  {
   "cell_type": "markdown",
   "metadata": {},
   "source": [
    "**Plotar os bancos de dados**"
   ]
  },
  {
   "cell_type": "code",
   "execution_count": 35,
   "metadata": {},
   "outputs": [
    {
     "data": {
      "image/png": "[encoded data removed]",
      "text/plain": [
       "<Figure size 432x288 with 1 Axes>"
      ]
     },
     "metadata": {
      "needs_background": "light"
     },
     "output_type": "display_data"
    },
    {
     "data": {
      "image/png": "[encoded data removed]",
      "text/plain": [
       "<Figure size 432x288 with 1 Axes>"
      ]
     },
     "metadata": {
      "needs_background": "light"
     },
     "output_type": "display_data"
    }
   ],
   "source": [
    "#Plot Banco de Dados Reta\n",
    "plt.plot(xr, t1, 'r.') \n",
    "plt.title('Dataset 1')\n",
    "plt.xlabel('x')\n",
    "plt.ylabel('y') \n",
    "plt.show()\n",
    "\n",
    "#Plot Banco de Dados Parábola\n",
    "plt.plot(xr, t2, 'r.') \n",
    "plt.title('Dataset 2')\n",
    "plt.xlabel('x')\n",
    "plt.ylabel('y') \n",
    "plt.show()"
   ]
  },
  {
   "cell_type": "markdown",
   "metadata": {},
   "source": [
    "# Modelos de regressão"
   ]
  },
  {
   "cell_type": "markdown",
   "metadata": {},
   "source": [
    "**Modelo com 1 peso (reta)**"
   ]
  },
  {
   "cell_type": "code",
   "execution_count": 36,
   "metadata": {},
   "outputs": [],
   "source": [
    "weight_reta = np.random.rand()           #Definir peso inicial aleatório\n",
    "bias_reta = np.random.rand()             #Definir bias inicial aleatório"
   ]
  },
  {
   "cell_type": "markdown",
   "metadata": {},
   "source": [
    "**Modelo com 2 pesos (parábola)**"
   ]
  },
  {
   "cell_type": "code",
   "execution_count": 37,
   "metadata": {},
   "outputs": [],
   "source": [
    "weight_squared = np.random.rand(2,1)        #Definir peso inicial aleatório\n",
    "bias_squared = np.random.rand()             #Definir bias inicial aleatório"
   ]
  },
  {
   "cell_type": "markdown",
   "metadata": {},
   "source": [
    "**Funções de ajuste**"
   ]
  },
  {
   "cell_type": "code",
   "execution_count": 38,
   "metadata": {},
   "outputs": [],
   "source": [
    "def cost(y,t):                      #Função custo (erro médio quadrático)\n",
    "    return (y-t)**2\n",
    "def cost_derivate_weigth(x,y,t):    #Gradiente da função custo em relação ao peso\n",
    "    return x*(y-t)\n",
    "def cost_derivate_bias(y,t):        #Gradiente da função custo em relação ao bias\n",
    "    return y-t"
   ]
  },
  {
   "cell_type": "markdown",
   "metadata": {},
   "source": [
    "**Hyperparametros**"
   ]
  },
  {
   "cell_type": "code",
   "execution_count": 39,
   "metadata": {},
   "outputs": [],
   "source": [
    "num_epochs = 2500                    #Total de vezes que todos os pontos do dataset serão inseridos no treinamento\n",
    "eta = 0.001                          #Taxa de aprendizagem"
   ]
  },
  {
   "cell_type": "markdown",
   "metadata": {},
   "source": [
    "# Ajustes de regressão"
   ]
  },
  {
   "cell_type": "markdown",
   "metadata": {},
   "source": [
    "**Dataset 1**"
   ]
  },
  {
   "cell_type": "code",
   "execution_count": 40,
   "metadata": {},
   "outputs": [],
   "source": [
    "cost_epoch1 = np.zeros([num_epochs,1])   #Vetor que armazena os valores do custo a cada época de treinamento\n",
    "epochs = np.arange(0,num_epochs,1)       #Vetor com o total de épocas\n",
    "\n",
    "for epoch in epochs:\n",
    "    cost_sum = 0                        #Variável que acumula a soma dos erros médios quadráticos por época\n",
    "    cost_dw_sum = 0                     #Variável que acumula a soma do gradiente do erro médio em relação ao peso\n",
    "    cost_db_sum = 0                     #Variável que acumula a soma do gradiente do erro médio em relação ao bias\n",
    "    for xi,ti in zip(xr_train,t1_train):\n",
    "        yi = weight_reta*xi+bias_reta                   #Valor previsto pela regressão para a entrada xi\n",
    "        costi = cost(yi,ti)                             #Erro quadrático para a amostra i\n",
    "        cost_sum += costi\n",
    "        cost_db_i = cost_derivate_bias(yi,ti)           #Gradiente do custo em relação ao bias para a amostra xi\n",
    "        cost_db_sum += cost_db_i\n",
    "        cost_dw_i = cost_derivate_weigth(xi,yi,ti)      #Gradiente do custo em relação ao peso para a amostra xi\n",
    "        cost_dw_sum += cost_dw_i\n",
    "    \n",
    "    cost_epoch1[epoch,0] = cost_sum/n_pontos            #Custo (erro quadrático médio) para a época epoch\n",
    "    cost_dw_epoch = 2*cost_dw_sum/n_pontos              #Gradiente do custo em relação ao peso para a época epoch\n",
    "    cost_db_epoch = 2*cost_db_sum/n_pontos              #Gradiente do custo em relação ao bias para a época epoch\n",
    "    weight_reta = weight_reta - eta*cost_dw_epoch       #Ajuste do peso na direção contrária ao gradiente\n",
    "    bias_reta = bias_reta - eta*cost_db_epoch           #Ajuste do bias na direção contrária ao gradiente\n",
    "\n",
    "#Reta de ajuste\n",
    "yr = weight_reta*xr+bias_reta                               #Resultado da regressão linear após o treinamento"
   ]
  },
  {
   "cell_type": "markdown",
   "metadata": {},
   "source": [
    "**Dataset 2**"
   ]
  },
  {
   "cell_type": "code",
   "execution_count": 41,
   "metadata": {},
   "outputs": [],
   "source": [
    "cost_epoch2 = np.zeros([num_epochs,1])   #Vetor que armazena os valores do custo a cada época de treinamento\n",
    "\n",
    "for epoch in epochs:\n",
    "    cost_sum = 0                        #Variável que acumula a soma dos erros médios quadráticos por época\n",
    "    cost_dw1_sum = 0                    #Variável que acumula a soma do gradiente do erro médio em relação ao peso 1\n",
    "    cost_dw2_sum = 0                    #Variável que acumula a soma do gradiente do erro médio em relação ao peso 2\n",
    "    cost_db_sum = 0                     #Variável que acumula a soma do gradiente do erro médio em relação ao bias\n",
    "    for xi,ti in zip(xs_train,t2_train):\n",
    "        yi = np.dot(xi,weight_squared)+bias_squared       #Valor previsto pela regressão para a entrada xi\n",
    "        costi = cost(yi,ti)                               #Erro quadrático para a amostra i\n",
    "        cost_sum += costi\n",
    "        cost_db_i = cost_derivate_bias(yi,ti)             #Gradiente do custo em relação ao bias para a amostra xi\n",
    "        cost_db_sum += cost_db_i\n",
    "        cost_dw1_i = cost_derivate_weigth(xi[0],yi,ti)    #Gradiente do custo em relação ao peso 1 para a amostra xi\n",
    "        cost_dw1_sum += cost_dw1_i\n",
    "        cost_dw2_i = cost_derivate_weigth(xi[1],yi,ti)    #Gradiente do custo em relação ao peso 2 para a amostra xi\n",
    "        cost_dw2_sum += cost_dw2_i\n",
    "    \n",
    "    cost_epoch2[epoch,0] = cost_sum/n_pontos                                 #Custo (erro quadrático médio) para a época epoch\n",
    "    cost_dw1_epoch = 2*cost_dw1_sum/n_pontos                                 #Gradiente do custo em relação ao peso 1 para a época epoch\n",
    "    cost_dw2_epoch = 2*cost_dw2_sum/n_pontos                                 #Gradiente do custo em relação ao peso 2 para a época epoch\n",
    "    cost_db_epoch = 2*cost_db_sum/n_pontos                                  #Gradiente do custo em relação ao bias para a época epoch\n",
    "    weight_squared[0,0] = weight_squared[0,0] - eta*cost_dw1_epoch          #Ajuste do peso 1 na direção contrária ao gradiente\n",
    "    weight_squared[1,0] = weight_squared[1,0] - eta*cost_dw2_epoch          #Ajuste do peso 2 na direção contrária ao gradiente\n",
    "    bias_squared = bias_squared - eta*cost_db_epoch                         #Ajuste do bias na direção contrária ao gradiente\n",
    "\n",
    "#Curva de ajuste\n",
    "ys = np.dot(xs,weight_squared)+bias_squared"
   ]
  },
  {
   "cell_type": "markdown",
   "metadata": {},
   "source": [
    "# Plot dos ajustes"
   ]
  },
  {
   "cell_type": "markdown",
   "metadata": {},
   "source": [
    "**Plot dos custos**"
   ]
  },
  {
   "cell_type": "code",
   "execution_count": 42,
   "metadata": {},
   "outputs": [
    {
     "data": {
      "image/png": "[encoded data removed]",
      "text/plain": [
       "<Figure size 432x288 with 1 Axes>"
      ]
     },
     "metadata": {
      "needs_background": "light"
     },
     "output_type": "display_data"
    },
    {
     "data": {
      "image/png": "[encoded data removed]",
      "text/plain": [
       "<Figure size 432x288 with 1 Axes>"
      ]
     },
     "metadata": {
      "needs_background": "light"
     },
     "output_type": "display_data"
    }
   ],
   "source": [
    "#Plot Cost Dataset 1   \n",
    "plt.plot(epochs, cost_epoch1, '-k') \n",
    "plt.title('Cost vs Epoch')\n",
    "plt.xlabel('Number of Epochs')\n",
    "plt.ylabel('Cost')\n",
    "plt.ylim(0,20)\n",
    "plt.show()\n",
    "\n",
    "#Plot Cost Dataset 2   \n",
    "plt.plot(epochs, cost_epoch2, '-k') \n",
    "plt.title('Cost vs Epoch')\n",
    "plt.xlabel('Number of Epochs')\n",
    "plt.ylabel('Cost')\n",
    "plt.ylim(0,20)\n",
    "plt.show()"
   ]
  },
  {
   "cell_type": "markdown",
   "metadata": {},
   "source": [
    "**Plot dos ajustes**"
   ]
  },
  {
   "cell_type": "code",
   "execution_count": 43,
   "metadata": {},
   "outputs": [
    {
     "data": {
      "image/png": "[encoded data removed]",
      "text/plain": [
       "<Figure size 432x288 with 1 Axes>"
      ]
     },
     "metadata": {
      "needs_background": "light"
     },
     "output_type": "display_data"
    },
    {
     "name": "stdout",
     "output_type": "stream",
     "text": [
      "A equação de ajuste é y = 4.88 *x+2.18\n"
     ]
    },
    {
     "data": {
      "image/png": "[encoded data removed]",
      "text/plain": [
       "<Figure size 432x288 with 1 Axes>"
      ]
     },
     "metadata": {
      "needs_background": "light"
     },
     "output_type": "display_data"
    },
    {
     "name": "stdout",
     "output_type": "stream",
     "text": [
      "A equação de ajuste é y = 1.02 *x^2 + 2.00 *x + 2.60\n"
     ]
    }
   ],
   "source": [
    "#Plot Ajuste Dataset1\n",
    "plt.plot(xr, t1, 'r.', label ='Dataset1') \n",
    "plt.plot(xr, yr, '-b', label ='Regression') \n",
    "plt.title('Datafit')\n",
    "plt.xlabel('x')\n",
    "plt.ylabel('y')\n",
    "plt.legend() \n",
    "plt.show()\n",
    "\n",
    "print('A equação de ajuste é y = %.2f'% weight_reta,'*x+%.2f'% bias_reta)\n",
    "\n",
    "#Plot Ajuste Dataset2\n",
    "plt.plot(xr, t2, 'r.', label ='Dataset2') \n",
    "plt.plot(xr, ys, '-b', label ='Regression') \n",
    "plt.title('Datafit')\n",
    "plt.xlabel('x')\n",
    "plt.ylabel('y')\n",
    "plt.legend() \n",
    "plt.show()\n",
    "\n",
    "print('A equação de ajuste é y = %.2f'% weight_squared[0,0],'*x^2 + %.2f'%weight_squared[1,0],'*x + %.2f'% bias_squared)"
   ]
  },
  {
   "cell_type": "code",
   "execution_count": null,
   "metadata": {},
   "outputs": [],
   "source": []
  }
 ],
 "metadata": {
  "kernelspec": {
   "display_name": "Python 3",
   "language": "python",
   "name": "python3"
  },
  "language_info": {
   "codemirror_mode": {
    "name": "ipython",
    "version": 3
   },
   "file_extension": ".py",
   "mimetype": "text/x-python",
   "name": "python",
   "nbconvert_exporter": "python",
   "pygments_lexer": "ipython3",
   "version": "3.7.1"
  }
 },
 "nbformat": 4,
 "nbformat_minor": 2
}
